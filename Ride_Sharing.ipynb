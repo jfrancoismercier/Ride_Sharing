{
 "cells": [
  {
   "cell_type": "markdown",
   "metadata": {},
   "source": [
    "##  In this notebook, I have coded a ridersharing program. \n",
    "\n",
    "### A road is the two-dimensional cartesian product.   We will genate  a car with some features. The car will take the main rider in and drive in the direction of the rider's destination. Then, other riders are randomly generated on the map, each with a location and a direction. Given the destination of the main rider, the car will pick up riders on the way, if there is enough space in the car. This program ends when the main rider is droppe at her destination.\n",
    "\n",
    "\n",
    "### Define the rider class. A rider has a name, a location, a destination and a number of seats requested."
   ]
  },
  {
   "cell_type": "code",
   "execution_count": 1,
   "metadata": {},
   "outputs": [],
   "source": [
    "class Rider():\n",
    "    \n",
    "    '''\n",
    "    A rider is defined by its location and the number of seats requested and a destination.\n",
    "    Location can be an integer or float greater or equal to 0.\n",
    "    The road starts at 0 and has a size of 100.\n",
    "    '''\n",
    "        \n",
    "    def __init__(self, name, loc, des, sea):\n",
    "        self.name = name # identity of the rider\n",
    "        self.loc = loc # location is a two-dimensional list\n",
    "        self.sea = sea # how many seats do you need\n",
    "        self.des = des\n",
    "        self.dist = dist\n",
    "    \n",
    "   "
   ]
  },
  {
   "cell_type": "markdown",
   "metadata": {},
   "source": [
    "## Define a car class. \n",
    "\n",
    "### A car is defined by its speed (Slow or Fast) and a number of available seats."
   ]
  },
  {
   "cell_type": "code",
   "execution_count": 2,
   "metadata": {},
   "outputs": [],
   "source": [
    "class Car():\n",
    "    \n",
    "    def __init__(self, speed, sea):\n",
    "        self.speed = speed #fast or slow\n",
    "        self.sea = sea # 1, 2 or 3\n",
    "        "
   ]
  },
  {
   "cell_type": "markdown",
   "metadata": {},
   "source": [
    "## Define a random car generator. \n",
    "\n",
    "### This function generate a car. Speed is randomly assigned, and a number of seats is randomly assigned as a number between 2 and \"maxspace\"."
   ]
  },
  {
   "cell_type": "code",
   "execution_count": 3,
   "metadata": {},
   "outputs": [],
   "source": [
    "def car_generator(maxspace):\n",
    "    import random\n",
    "    speed = random.randint(1,2)\n",
    "    if speed == 1:\n",
    "        speed = 'fast'\n",
    "    else:\n",
    "        speed = 'slow'\n",
    "    \n",
    "    space = random.randint(2,maxspace)\n",
    "    \n",
    "    print(f'Your car is {speed.upper()} and has a total of {space} seat(s).')\n",
    "    return Car(speed, space)\n",
    "    "
   ]
  },
  {
   "cell_type": "markdown",
   "metadata": {},
   "source": [
    "## Define a random rider generator.\n",
    "\n",
    "### A rider is randomly generated. The input to that function is the name of the rider. Location, destination and a number of seats requested are randomly assigned."
   ]
  },
  {
   "cell_type": "code",
   "execution_count": 4,
   "metadata": {},
   "outputs": [],
   "source": [
    "def rider_generator(name):\n",
    "    import random\n",
    "    '''\n",
    "    generate a random location (2x2 list of floats) between -100 and 100\n",
    "    generate a random number (integer) of seats requested between 1 and 3\n",
    "    generate a random destination (2x2 list of floats) between -100 and 100\n",
    "    '''\n",
    "    loca = [round(random.uniform(-100,100),2),round(random.uniform(-100,100),2)]\n",
    "    seats = random.randint(1,2)\n",
    "    dest = [round(random.uniform(-100,100),2),round(random.uniform(-100,100),2)]\n",
    "    return Rider(name,loca, dest, seats)\n",
    "    "
   ]
  },
  {
   "cell_type": "markdown",
   "metadata": {},
   "source": [
    "## Define a map of other riders.\n",
    "\n",
    "### This function will generate n riders and name the ith rider R_i. The main rider will be named R_0."
   ]
  },
  {
   "cell_type": "code",
   "execution_count": 5,
   "metadata": {},
   "outputs": [],
   "source": [
    "def riders_map(n):\n",
    "    '''\n",
    "    The input is n, the number of riders you want to generate.\n",
    "    '''\n",
    "    import random\n",
    "    riderList = []\n",
    "    for num in range(1,n +1):\n",
    "        riderList.append(rider_generator(f'R_{num}'))\n",
    "    \n",
    "    return riderList"
   ]
  },
  {
   "cell_type": "markdown",
   "metadata": {},
   "source": [
    "## Define a function that measures distance between two points on the 2-dimensional cartesian product.\n",
    "\n",
    "### We will need that function when we identify the riders \"on the way\". The car needs to know where are the closest riders who ride in the direction of the main rider destination."
   ]
  },
  {
   "cell_type": "code",
   "execution_count": 6,
   "metadata": {},
   "outputs": [],
   "source": [
    "def dist(a,b):\n",
    "    \n",
    "    dst = 0\n",
    "    \n",
    "    for n in range(0,min(len(a),len(b))):\n",
    "    \n",
    "        dst += (a[n]-b[n])**2 \n",
    "    \n",
    "    return dst**(1/2)"
   ]
  },
  {
   "cell_type": "markdown",
   "metadata": {},
   "source": [
    "## Define a function that locates all other riders that are \"on the way\". \n",
    "\n",
    "### This function returns the riders to pick up who are the closest from some_rider ordered by distance.\n"
   ]
  },
  {
   "cell_type": "code",
   "execution_count": 7,
   "metadata": {},
   "outputs": [],
   "source": [
    "def pickups_locator(ridersmap,some_rider):\n",
    "    '''\n",
    "    This function takes as input the list of generated riders and some_rider.\n",
    "    \n",
    "    condition_1 : is the rider between some_rider location and destination?\n",
    "    condition_2 : is the rider location closer to some_rider destination than some_rider location is?\n",
    "    condition_3 : is the rider destination closer to some_rider destination that some_rider location is?\n",
    "    \n",
    "    '''\n",
    "    riders_on_way = []\n",
    "    \n",
    "    for rider in ridersmap:\n",
    "        \n",
    "        condition_1 = dist(rider.loc, some_rider.loc) < dist(some_rider.loc, some_rider.des)\n",
    "        condition_2 = dist(rider.loc, some_rider.des) < dist(some_rider.loc, some_rider.des)\n",
    "        condition_3 = dist(rider.des, some_rider.des) < dist(some_rider.loc, some_rider.des)\n",
    "        \n",
    "        if  condition_1 and condition_2 and condition_3:\n",
    "            rider.dist = round(dist(rider.loc, some_rider.loc),2)\n",
    "            riders_on_way.append(rider)\n",
    "    \n",
    "    import operator\n",
    "    riders_on_way.sort(key=operator.attrgetter('dist'))\n",
    "            \n",
    "    return riders_on_way\n",
    "            "
   ]
  },
  {
   "cell_type": "markdown",
   "metadata": {},
   "source": [
    "### Among the riders on the way, if there is enough space in the car, pick up the nearest rider. Then, determine who should be dropped off first. With respect to the location of the last pick-up and the destination of the first drop-off, locate riders  who are on the way."
   ]
  },
  {
   "cell_type": "markdown",
   "metadata": {},
   "source": [
    "## Define a function that runs the ride, find pick ups, makes drop offs until the main rider is dropped off at its destination."
   ]
  },
  {
   "cell_type": "markdown",
   "metadata": {},
   "source": [
    "determine a drop off based on the last pick-up and who is in the car."
   ]
  },
  {
   "cell_type": "code",
   "execution_count": 8,
   "metadata": {},
   "outputs": [],
   "source": [
    "def dropoff_dist(inthecar, location):\n",
    "    for rider in inthecar:\n",
    "        rider.dist = dist(location, rider.loc)\n",
    "    \n",
    "    import operator\n",
    "    inthecar.sort(key=operator.attrgetter('dist'))"
   ]
  },
  {
   "cell_type": "code",
   "execution_count": 9,
   "metadata": {},
   "outputs": [],
   "source": [
    "def ride(mainrider, thecar, ridersontheway):\n",
    "\n",
    "    inthecar = []\n",
    "\n",
    "    location = mainrider.loc\n",
    "    inthecar.append(mainrider)\n",
    "    distance_ran = 0\n",
    "    thecar.sea -= 1\n",
    "    dropoff_dist(inthecar, location)\n",
    "    \n",
    "    \n",
    "\n",
    "    while mainrider in inthecar and ridersontheway != []:\n",
    "\n",
    "        \n",
    "        if dist(location, inthecar[0].des) < dist(location, ridersontheway[0].loc):\n",
    "            \n",
    "            distance_ran += dist(location, inthecar[0].des)\n",
    "            location = inthecar[0].des\n",
    "            thecar.sea += inthecar[0].sea        \n",
    "            print(f'Rider {inthecar[0].name} has been dropped off at {inthecar[0].des}')\n",
    "            inthecar.remove(inthecar[0])\n",
    "            ridersontheway.remove(ridersontheway[0])\n",
    "\n",
    "\n",
    "        elif dist(location, inthecar[0].des) > dist(location, ridersontheway[0].loc) and thecar.sea >= ridersontheway[0].sea:\n",
    "\n",
    "            inthecar.append(ridersontheway[0])\n",
    "            print(f'Rider {ridersontheway[0].name} has been picked up at {ridersontheway[0].loc}')\n",
    "            distance_ran += dist(location, ridersontheway[0].loc )\n",
    "            location =  ridersontheway[0].loc\n",
    "            thecar.sea -= ridersontheway[0].sea\n",
    "            ridersontheway.remove(ridersontheway[0])\n",
    "            dropoff_dist(inthecar, location)\n",
    "\n",
    "        else: \n",
    "            ridersontheway.remove(ridersontheway[0])\n",
    "        \n",
    "    while mainrider in inthecar:\n",
    "        \n",
    "        for rider in inthecar:\n",
    "            \n",
    "            distance_ran += dist(location, inthecar[0].des)\n",
    "            location = inthecar[0].des\n",
    "            thecar.sea += inthecar[0].sea        \n",
    "            print(f'Rider {inthecar[0].name} has been dropped off at {inthecar[0].des}')\n",
    "            inthecar.remove(inthecar[0])\n",
    "    \n",
    "    print(f'The minimum distance was: {round(dist(mainrider.loc, mainrider.des),2)}\\n the total distance driven was :{round(distance_ran,2)}')\n",
    "\n",
    "        \n",
    "    \n",
    "    \n"
   ]
  },
  {
   "cell_type": "markdown",
   "metadata": {},
   "source": [
    "## Let's run the program. \n",
    "\n",
    "### Our main rider is named r_0. We are generating a map with 500 riders. Given the features of the main rider, we generate the list of riders on the way. Also, we are generating a car at random."
   ]
  },
  {
   "cell_type": "code",
   "execution_count": 14,
   "metadata": {},
   "outputs": [
    {
     "name": "stdout",
     "output_type": "stream",
     "text": [
      "R_0's location is [-94.37, 37.41] and her destination is [26.1, -24.14]\n",
      "Your car is SLOW and has a total of 6 seat(s).\n"
     ]
    }
   ],
   "source": [
    "main_rider = rider_generator('R_0')\n",
    "print(f\"R_0's location is {main_rider.loc} and her destination is {main_rider.des}\")\n",
    "test_map = riders_map(500)\n",
    "car_test = car_generator(10)\n",
    "ridersontheway = pickups_locator(test_map, main_rider)\n",
    "\n"
   ]
  },
  {
   "cell_type": "code",
   "execution_count": 15,
   "metadata": {},
   "outputs": [
    {
     "name": "stdout",
     "output_type": "stream",
     "text": [
      "Rider R_293 has been picked up at [-87.27, 34.07]\n",
      "Rider R_135 has been picked up at [-83.77, 37.92]\n",
      "Rider R_35 has been picked up at [-79.71, 33.85]\n",
      "Rider R_104 has been picked up at [-70.96, 39.13]\n",
      "Rider R_104 has been dropped off at [-38.7, 76.7]\n",
      "Rider R_49 has been picked up at [-50.88, 29.2]\n",
      "Rider R_49 has been dropped off at [37.35, 59.7]\n",
      "Rider R_35 has been dropped off at [11.36, -1.47]\n",
      "Rider R_436 has been picked up at [-48.2, -48.01]\n",
      "Rider R_436 has been dropped off at [-18.13, -74.06]\n",
      "Rider R_352 has been picked up at [3.16, 33.52]\n",
      "Rider R_352 has been dropped off at [74.02, 17.31]\n",
      "Rider R_251 has been picked up at [-1.38, 6.98]\n",
      "Rider R_332 has been picked up at [3.66, 44.75]\n",
      "Rider R_332 has been dropped off at [7.4, 32.5]\n",
      "Rider R_279 has been picked up at [2.03, 8.68]\n",
      "Rider R_279 has been dropped off at [-21.19, 43.4]\n",
      "Rider R_460 has been picked up at [7.99, 26.62]\n",
      "Rider R_460 has been dropped off at [-0.11, -34.22]\n",
      "Rider R_251 has been dropped off at [40.91, -63.37]\n",
      "Rider R_135 has been dropped off at [-88.02, -77.58]\n",
      "Rider R_155 has been picked up at [7.98, 20.14]\n",
      "Rider R_22 has been picked up at [-1.11, -8.7]\n",
      "Rider R_22 has been dropped off at [-36.61, -30.99]\n",
      "Rider R_1 has been picked up at [-41.81, -52.51]\n",
      "Rider R_1 has been dropped off at [-91.61, -31.6]\n",
      "Rider R_201 has been picked up at [-68.87, -64.29]\n",
      "Rider R_201 has been dropped off at [-10.47, 5.36]\n",
      "Rider R_471 has been picked up at [5.63, -4.64]\n",
      "Rider R_471 has been dropped off at [-59.47, 20.96]\n",
      "Rider R_431 has been picked up at [-46.97, -60.97]\n",
      "Rider R_314 has been picked up at [-56.65, -65.98]\n",
      "Rider R_314 has been dropped off at [65.21, -28.54]\n",
      "Rider R_431 has been dropped off at [46.04, 14.91]\n",
      "Rider R_293 has been dropped off at [63.15, 1.69]\n",
      "Rider R_155 has been dropped off at [58.14, 28.34]\n",
      "Rider R_497 has been picked up at [9.54, -2.93]\n",
      "Rider R_241 has been picked up at [15.01, 62.2]\n",
      "Rider R_241 has been dropped off at [14.07, 19.28]\n",
      "Rider R_4 has been picked up at [-26.22, -51.83]\n",
      "Rider R_4 has been dropped off at [-56.95, -88.31]\n",
      "Rider R_497 has been dropped off at [-82.18, -6.16]\n",
      "Rider R_232 has been picked up at [-76.19, -75.61]\n",
      "Rider R_232 has been dropped off at [-86.39, 14.75]\n",
      "Rider R_334 has been picked up at [14.16, 74.71]\n",
      "Rider R_334 has been dropped off at [-31.46, 27.42]\n",
      "Rider R_346 has been picked up at [18.27, 60.11]\n",
      "Rider R_346 has been dropped off at [-26.61, 0.37]\n",
      "Rider R_0 has been dropped off at [26.1, -24.14]\n",
      "The minimum distance was: 135.28\n",
      " the total distance driven was :2793.03\n"
     ]
    }
   ],
   "source": [
    "ride(main_rider, car_test, ridersontheway)"
   ]
  },
  {
   "cell_type": "markdown",
   "metadata": {},
   "source": [
    "## Future extension of the code: display the whole map (black dot for each rider) \n",
    "                display the map of riders on the way (green dot for each rider on the way)\n",
    "                \n",
    "                extra: display their location and destination and an edge between them\n",
    "                "
   ]
  }
 ],
 "metadata": {
  "kernelspec": {
   "display_name": "Python 3",
   "language": "python",
   "name": "python3"
  },
  "language_info": {
   "codemirror_mode": {
    "name": "ipython",
    "version": 3
   },
   "file_extension": ".py",
   "mimetype": "text/x-python",
   "name": "python",
   "nbconvert_exporter": "python",
   "pygments_lexer": "ipython3",
   "version": "3.6.8"
  }
 },
 "nbformat": 4,
 "nbformat_minor": 2
}
